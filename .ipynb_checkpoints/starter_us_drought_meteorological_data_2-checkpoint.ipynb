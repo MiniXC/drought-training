{
 "cells": [
  {
   "cell_type": "markdown",
   "metadata": {
    "id": "T72PtOVZ81X0"
   },
   "source": [
    "> ## US Drought & Meteorological Data Starter Notebook\n",
    "This notebook will walk you trough loading the data and create a Dummy Classifier, showing a range of F1 scores that correspond to random predictions if given theclass priors."
   ]
  },
  {
   "cell_type": "code",
   "execution_count": 1,
   "metadata": {
    "colab": {
     "base_uri": "https://localhost:8080/"
    },
    "id": "df7GgZGL84Cs",
    "outputId": "790c191b-dd42-40b7-ac61-678cb7721c47"
   },
   "outputs": [],
   "source": [
    "import os\n",
    "if not os.environ.get(\"CUDA_VISIBLE_DEVICES\"):\n",
    "    os.environ.setdefault(\"CUDA_VISIBLE_DEVICES\",\"1\")\n",
    "else:\n",
    "     os.environ[\"CUDA_VISIBLE_DEVICES\"] = \"1\""
   ]
  },
  {
   "cell_type": "markdown",
   "metadata": {
    "id": "U3lwWcJI81X6"
   },
   "source": [
    "## Loading & Visualizing the Data\n",
    "In this section, we load the training and validation data into numpy arrays and visualize the drought classes and meteorological attributes."
   ]
  },
  {
   "cell_type": "markdown",
   "metadata": {
    "id": "SWzXDXv481X7"
   },
   "source": [
    "We load the json files for training, validation and testing into the ``files`` dictionary."
   ]
  },
  {
   "cell_type": "code",
   "execution_count": 2,
   "metadata": {
    "id": "UQvjZsW381X7"
   },
   "outputs": [],
   "source": [
    "import numpy as np\n",
    "import pandas as pd\n",
    "import json\n",
    "import os\n",
    "import matplotlib.pyplot as plt\n",
    "import seaborn as sns\n",
    "from tqdm.auto import tqdm\n",
    "from datetime import datetime\n",
    "sns.set_style('white')\n",
    "\n",
    "files = {}\n",
    "\n",
    "for dirname, _, filenames in os.walk('.'):\n",
    "  for filename in filenames:\n",
    "    if 'train' in filename:\n",
    "        files['train'] = os.path.join(dirname, filename)\n",
    "    if 'valid' in filename:\n",
    "        files['valid'] = os.path.join(dirname, filename)\n",
    "    if 'test' in filename:\n",
    "        files['test'] = os.path.join(dirname, filename)"
   ]
  },
  {
   "cell_type": "markdown",
   "metadata": {
    "id": "R5NoSeUJ81X8"
   },
   "source": [
    "The following classes exist, ranging from no drought (``None``), to extreme drought (``D4``).\n",
    "This could be treated as a regression, ordinal or classification problem, but for now we will treat it as 5 distinct classes."
   ]
  },
  {
   "cell_type": "code",
   "execution_count": 3,
   "metadata": {
    "id": "xusLg2my81X8"
   },
   "outputs": [],
   "source": [
    "class2id = {\n",
    "    'None': 0,\n",
    "    'D0': 1,\n",
    "    'D1': 2,\n",
    "    'D2': 3,\n",
    "    'D3': 4,\n",
    "    'D4': 5,\n",
    "}\n",
    "id2class = {v: k for k, v in class2id.items()}"
   ]
  },
  {
   "cell_type": "code",
   "execution_count": 4,
   "metadata": {},
   "outputs": [],
   "source": [
    "scaler_dict = {}\n",
    "scaler_dict_static = {}\n",
    "scaler_dict_past = {}"
   ]
  },
  {
   "cell_type": "code",
   "execution_count": 5,
   "metadata": {},
   "outputs": [],
   "source": [
    "from sklearn.preprocessing import RobustScaler\n",
    "\n",
    "def normalize(X_static, X_time, y_past=None, fit=False):\n",
    "    for index in tqdm(range(X_time.shape[-1])):\n",
    "        if fit:\n",
    "            scaler_dict[index] = RobustScaler().fit(\n",
    "                X_time[:,:,index].reshape(-1, 1)\n",
    "            )\n",
    "        X_time[:,:,index] = scaler_dict[index].transform(X_time[:,:,index].reshape(-1, 1)).reshape(-1, X_time.shape[-2])\n",
    "    for index in tqdm(range(X_static.shape[-1])):\n",
    "        if fit:\n",
    "            scaler_dict_static[index] = RobustScaler().fit(\n",
    "                X_static[:,index].reshape(-1, 1)\n",
    "            )\n",
    "        X_static[:,index] = scaler_dict_static[index].transform(X_static[:,index].reshape(-1, 1)).reshape(1, -1)\n",
    "    index = 0\n",
    "    if y_past is not None:\n",
    "        if fit:\n",
    "            scaler_dict_past[index] = RobustScaler().fit(\n",
    "                y_past.reshape(-1, 1)\n",
    "            )\n",
    "        y_past[:,:] = scaler_dict_past[index].transform(y_past.reshape(-1, 1)).reshape(-1, y_past.shape[-1])\n",
    "        return X_static, X_time, y_past\n",
    "    return X_static, X_time"
   ]
  },
  {
   "cell_type": "code",
   "execution_count": 6,
   "metadata": {
    "id": "SBNet6zb81X9"
   },
   "outputs": [],
   "source": [
    "dfs = {\n",
    "    k: pd.read_csv(files[k]).set_index(['fips', 'date'])\n",
    "    for k in files.keys()\n",
    "}"
   ]
  },
  {
   "cell_type": "code",
   "execution_count": 7,
   "metadata": {
    "id": "Lj_wLO3q81X9"
   },
   "outputs": [],
   "source": [
    "import numpy as np\n",
    "from scipy.interpolate import interp1d\n",
    "\n",
    "def interpolate_nans(padata, pkind='linear'):\n",
    "    \"\"\"\n",
    "    see: https://stackoverflow.com/a/53050216/2167159\n",
    "    \"\"\"\n",
    "    aindexes = np.arange(padata.shape[0])\n",
    "    agood_indexes, = np.where(np.isfinite(padata))\n",
    "    f = interp1d(agood_indexes\n",
    "               , padata[agood_indexes]\n",
    "               , bounds_error=False\n",
    "               , copy=False\n",
    "               , fill_value=\"extrapolate\"\n",
    "               , kind=pkind)\n",
    "    return f(aindexes)"
   ]
  },
  {
   "cell_type": "code",
   "execution_count": 8,
   "metadata": {
    "id": "e3gqP7ZY81X9"
   },
   "outputs": [],
   "source": [
    "# load one of 'train', 'valid' or 'test'\n",
    "def loadXY(df, shuffle=True, random_state=42, window_size=180, target_size=12, target_series=False):\n",
    "    soil_df = pd.read_csv('soil_data.csv')\n",
    "    time_data_cols = sorted([c for c in df.columns if c not in ['fips','date','score']])\n",
    "    static_data_cols = sorted([c for c in soil_df.columns if c not in ['soil','lat','lon']])\n",
    "    count = 0\n",
    "    score_df = df.dropna(subset=['score'])\n",
    "    X_static = np.empty((len(df)//window_size, len(static_data_cols)))\n",
    "    X_time = np.empty((len(df)//window_size, window_size, len(time_data_cols)))\n",
    "    y_past = np.empty((len(df)//window_size, window_size))\n",
    "    y_target = np.empty((len(df)//window_size, target_size))\n",
    "    for fips in tqdm(score_df.index.get_level_values(0).unique()):\n",
    "        start_i = np.random.randint(1, window_size)\n",
    "        fips_df = df[(df.index.get_level_values(0)==fips)]\n",
    "        X = fips_df[time_data_cols].values\n",
    "        y = fips_df['score'].values\n",
    "        X_s = soil_df[soil_df['fips']==fips][static_data_cols].values[0]\n",
    "        for i in range(start_i, len(y)-(window_size+target_size*7), window_size):\n",
    "            X_time[count] = X[i:i+window_size]\n",
    "            if not target_series:\n",
    "              y_past[count] = interpolate_nans(y[i:i+window_size])\n",
    "              temp_y = y[i+window_size:i+window_size+target_size*7]\n",
    "              y_target[count] = np.array(temp_y[~np.isnan(temp_y)][:target_size])\n",
    "            else:\n",
    "              temp_y = interpolate_nans(y[i:i+window_size+target_size*7])\n",
    "              temp_y = temp_y[-window_size:]\n",
    "              y_past[count] = temp_y\n",
    "            X_static[count] = X_s\n",
    "            count += 1\n",
    "    if not target_series:\n",
    "      return X_static[:count], X_time[:count], y_past[:count], y_target[:count]\n",
    "    else:\n",
    "      return X_static[:count], X_time[:count], y_past[:count]"
   ]
  },
  {
   "cell_type": "markdown",
   "metadata": {
    "id": "3tiSHZc581X-"
   },
   "source": [
    "**Load Training Data**"
   ]
  },
  {
   "cell_type": "code",
   "execution_count": 9,
   "metadata": {
    "colab": {
     "base_uri": "https://localhost:8080/",
     "height": 66,
     "referenced_widgets": [
      "aef81a63ce0948d9babb88fe986f7657",
      "08f1387890ff4437ba6a2ab1f6cd90ce",
      "060b5c65011744b89f0822a0a31e4ec3",
      "7b18187dbc9844f8b4d843f89ef67b9c",
      "560c8a22519a4760b2651feb17429461",
      "df7696c138b648c1bf6e20eef8c4df3f",
      "5935ebee2a5c421b8ace0548164973b0",
      "f90ba9cc9db04d88ad703e0ab236a8c6"
     ]
    },
    "id": "_sPQsW6u81X-",
    "outputId": "c13f5982-3e03-452f-867a-e4e249b6675c"
   },
   "outputs": [
    {
     "data": {
      "application/vnd.jupyter.widget-view+json": {
       "model_id": "bd26969019624470bd307c736e8cca5d",
       "version_major": 2,
       "version_minor": 0
      },
      "text/plain": [
       "  0%|          | 0/3108 [00:00<?, ?it/s]"
      ]
     },
     "metadata": {},
     "output_type": "display_data"
    }
   ],
   "source": [
    "X_static_train, X_time_train, y_target_train = loadXY(dfs['train'], target_size=1, target_series=True)"
   ]
  },
  {
   "cell_type": "markdown",
   "metadata": {
    "id": "RIcbRKmB81X_"
   },
   "source": [
    "- ```X_static``` are the static soil parameters (they don't change over time) (30)\n",
    "- ```X_time``` are the meteorological parameters in the shape of (window_size, 18)\n",
    "- ```y_past``` are previous drought classes (on the same time scale as X_time)  (windows_size, 1). Can be used as additional feature to ```X_time```\n",
    "- ```y_target``` are the next x weeks of drought predictions (target_size). "
   ]
  },
  {
   "cell_type": "markdown",
   "metadata": {
    "id": "OEXmu6mC81X_"
   },
   "source": [
    "**Load Validation Data**"
   ]
  },
  {
   "cell_type": "code",
   "execution_count": 10,
   "metadata": {
    "colab": {
     "base_uri": "https://localhost:8080/",
     "height": 66,
     "referenced_widgets": [
      "9102afae0abb4db9b627d202d325b319",
      "28d2224dd5164404ad979e7cdddb9256",
      "5091943b0675475b93933bfea269a159",
      "a2afcf9a92ed49c3815ae9cdec61df28",
      "2bc30f73a7524b27b6d309c04775d260",
      "98a3cb36b7fe47438bd99900612fe5b2",
      "ab33de6c1295479a8dc175faf7bcb74b",
      "e72574e8d7fc4949824a57b88b1e2884"
     ]
    },
    "id": "5ZC1tyIr81X_",
    "outputId": "704bdb87-e12b-42fa-d3b5-91048856b5b2"
   },
   "outputs": [
    {
     "data": {
      "application/vnd.jupyter.widget-view+json": {
       "model_id": "fe180fb0e88c452fb7edc7c7e47b5c80",
       "version_major": 2,
       "version_minor": 0
      },
      "text/plain": [
       "  0%|          | 0/3108 [00:00<?, ?it/s]"
      ]
     },
     "metadata": {},
     "output_type": "display_data"
    }
   ],
   "source": [
    "X_static_val, X_time_val, y_target_val = loadXY(dfs['valid'], target_size=1, target_series=True)"
   ]
  },
  {
   "cell_type": "code",
   "execution_count": 11,
   "metadata": {},
   "outputs": [
    {
     "data": {
      "application/vnd.jupyter.widget-view+json": {
       "model_id": "5f7bec0d32be4a34a7d9c56457c2ee7e",
       "version_major": 2,
       "version_minor": 0
      },
      "text/plain": [
       "  0%|          | 0/18 [00:00<?, ?it/s]"
      ]
     },
     "metadata": {},
     "output_type": "display_data"
    },
    {
     "data": {
      "application/vnd.jupyter.widget-view+json": {
       "model_id": "b0e30b66bdd84ec89fd0c5dab3c1d639",
       "version_major": 2,
       "version_minor": 0
      },
      "text/plain": [
       "  0%|          | 0/30 [00:00<?, ?it/s]"
      ]
     },
     "metadata": {},
     "output_type": "display_data"
    }
   ],
   "source": [
    "X_static_train, X_time_train = normalize(X_static_train, X_time_train, fit=True)"
   ]
  },
  {
   "cell_type": "code",
   "execution_count": 12,
   "metadata": {},
   "outputs": [
    {
     "data": {
      "application/vnd.jupyter.widget-view+json": {
       "model_id": "869ee90a51534cc88ab16a8f946ade4d",
       "version_major": 2,
       "version_minor": 0
      },
      "text/plain": [
       "  0%|          | 0/18 [00:00<?, ?it/s]"
      ]
     },
     "metadata": {},
     "output_type": "display_data"
    },
    {
     "data": {
      "application/vnd.jupyter.widget-view+json": {
       "model_id": "427ae934cb4c4e878fce3ba8efbb16be",
       "version_major": 2,
       "version_minor": 0
      },
      "text/plain": [
       "  0%|          | 0/30 [00:00<?, ?it/s]"
      ]
     },
     "metadata": {},
     "output_type": "display_data"
    }
   ],
   "source": [
    "X_static_val, X_time_val = normalize(X_static_val, X_time_val)"
   ]
  },
  {
   "cell_type": "markdown",
   "metadata": {
    "id": "_jly5u7081YA"
   },
   "source": [
    "### Inspect class imbalance"
   ]
  },
  {
   "cell_type": "code",
   "execution_count": 13,
   "metadata": {
    "id": "8BlmuF7T81YA"
   },
   "outputs": [],
   "source": [
    "from collections import Counter"
   ]
  },
  {
   "cell_type": "code",
   "execution_count": 14,
   "metadata": {
    "id": "tbmRE32_81YA"
   },
   "outputs": [],
   "source": [
    "def round_array(raw_arr):\n",
    "    flat_arr = raw_arr.flatten()\n",
    "    arr = np.array([round(num) for num in flat_arr])\n",
    "    return arr"
   ]
  },
  {
   "cell_type": "code",
   "execution_count": 15,
   "metadata": {
    "id": "mq5QJcp881YA"
   },
   "outputs": [
    {
     "data": {
      "text/plain": [
       "Text(0.5, 0, 'Drought Class')"
      ]
     },
     "execution_count": 15,
     "metadata": {},
     "output_type": "execute_result"
    },
    {
     "data": {
      "image/png": "[encoded data removed]",
      "text/plain": [
       "<Figure size 432x288 with 1 Axes>"
      ]
     },
     "metadata": {},
     "output_type": "display_data"
    }
   ],
   "source": [
    "rounded_target = round_array(y_target_train)\n",
    "\n",
    "class_count = Counter(rounded_target)\n",
    "\n",
    "keys = class_count.keys()\n",
    "values = class_count.values()\n",
    "\n",
    "plt.bar(keys, values)\n",
    "plt.ylabel('Count')\n",
    "plt.xlabel('Drought Class')"
   ]
  },
  {
   "cell_type": "code",
   "execution_count": 16,
   "metadata": {
    "id": "JviHcSLB81YC"
   },
   "outputs": [
    {
     "data": {
      "application/vnd.jupyter.widget-view+json": {
       "model_id": "fb0c7151a13a40b5bdb415139650aa63",
       "version_major": 2,
       "version_minor": 0
      },
      "text/plain": [
       "  0%|          | 0/3108 [00:00<?, ?it/s]"
      ]
     },
     "metadata": {},
     "output_type": "display_data"
    }
   ],
   "source": [
    "X_static_test, X_time_test, y_past_test, y_target_test = loadXY(dfs['test'])"
   ]
  },
  {
   "cell_type": "markdown",
   "metadata": {
    "id": "fqYrK23c81YD"
   },
   "source": [
    "## Load Transformer"
   ]
  },
  {
   "cell_type": "code",
   "execution_count": 17,
   "metadata": {},
   "outputs": [],
   "source": [
    "import sys\n",
    "sys.path.append('./ts_transformer')"
   ]
  },
  {
   "cell_type": "code",
   "execution_count": 18,
   "metadata": {
    "id": "wmnMfHp881YD"
   },
   "outputs": [],
   "source": [
    "import datetime\n",
    "\n",
    "import numpy as np\n",
    "from matplotlib import pyplot as plt\n",
    "import torch\n",
    "import torch.nn as nn\n",
    "import torch.optim as optim\n",
    "from torch.utils.data import DataLoader, random_split\n",
    "from tqdm import tqdm\n",
    "import seaborn as sns\n",
    "\n",
    "from tst import Transformer\n",
    "from tst.loss import OZELoss\n",
    "import tst.loss\n",
    "\n",
    "from src.dataset import OzeDataset\n",
    "from src.utils import compute_loss\n",
    "from src.visualization import map_plot_function, plot_values_distribution, plot_error_distribution, plot_errors_threshold, plot_visual_sample"
   ]
  },
  {
   "cell_type": "code",
   "execution_count": 47,
   "metadata": {
    "colab": {
     "base_uri": "https://localhost:8080/"
    },
    "id": "rB9xcVOr81YE",
    "outputId": "6efa53a7-02b7-4709-ab33-ce603be26014"
   },
   "outputs": [
    {
     "name": "stdout",
     "output_type": "stream",
     "text": [
      "Using device cuda:0\n"
     ]
    }
   ],
   "source": [
    "# Training parameters\n",
    "BATCH_SIZE = 32\n",
    "NUM_WORKERS = 0\n",
    "LR = 0.001\n",
    "EPOCHS = 10\n",
    "\n",
    "# Model parameters\n",
    "d_model = 256 # Lattent dim\n",
    "q = 8 # Query size\n",
    "v = 8 # Value size\n",
    "h = 8 # Number of heads\n",
    "N = 4 # Number of encoder and decoder to stack\n",
    "attention_size = 12 # Attention window size\n",
    "dropout = 0.2 # Dropout rate\n",
    "pe = None # Positional encoding\n",
    "chunk_mode = None\n",
    "\n",
    "d_input = 18 # From dataset\n",
    "d_output = 1 # From dataset\n",
    "\n",
    "# Config\n",
    "sns.set()\n",
    "\n",
    "device = torch.device(\"cuda:0\" if torch.cuda.is_available() else \"cpu\")\n",
    "print(f\"Using device {device}\")"
   ]
  },
  {
   "cell_type": "code",
   "execution_count": 48,
   "metadata": {
    "id": "6LDHM1Fb81YE"
   },
   "outputs": [],
   "source": [
    "train_with_labels = []\n",
    "\n",
    "for i in range(len(y_target_train)):\n",
    "    train_with_labels.append([X_time_train[i], y_target_train[i]])\n",
    "    \n",
    "val_with_labels = []\n",
    "for i in range(len(y_target_val)):\n",
    "    val_with_labels.append([X_time_val[i], y_target_val[i]])"
   ]
  },
  {
   "cell_type": "code",
   "execution_count": 49,
   "metadata": {
    "id": "HfgbC_Gg81YE"
   },
   "outputs": [],
   "source": [
    "dataloader_train = DataLoader(train_with_labels,\n",
    "                              batch_size=BATCH_SIZE,\n",
    "                              shuffle=True,\n",
    "                              num_workers=NUM_WORKERS,\n",
    "                              pin_memory=False\n",
    "                             )\n",
    "\n",
    "dataloader_val = DataLoader(val_with_labels,\n",
    "                            batch_size=BATCH_SIZE,\n",
    "                            shuffle=True,\n",
    "                            num_workers=NUM_WORKERS\n",
    "                           )"
   ]
  },
  {
   "cell_type": "markdown",
   "metadata": {
    "id": "nypwMSDv81YE"
   },
   "source": [
    "### Load Network"
   ]
  },
  {
   "cell_type": "code",
   "execution_count": 50,
   "metadata": {
    "id": "1fy4ci5K81YE"
   },
   "outputs": [],
   "source": [
    "# Load transformer with Adam optimizer and MSE loss function\n",
    "net = Transformer(d_input, d_model, d_output, q, v, h, N, attention_size=attention_size, dropout=dropout, chunk_mode=chunk_mode, pe=pe).to(device)\n",
    "optimizer = optim.Adam(net.parameters(), lr=LR)\n",
    "loss_function = tst.loss.OZELoss(alpha=0.3)"
   ]
  },
  {
   "cell_type": "markdown",
   "metadata": {
    "id": "m4FGfUsd81YF"
   },
   "source": [
    "### Train"
   ]
  },
  {
   "cell_type": "code",
   "execution_count": 51,
   "metadata": {},
   "outputs": [],
   "source": [
    "import src.utils"
   ]
  },
  {
   "cell_type": "code",
   "execution_count": 52,
   "metadata": {},
   "outputs": [
    {
     "data": {
      "text/plain": [
       "<module 'src.utils' from './ts_transformer/src/utils/__init__.py'>"
      ]
     },
     "execution_count": 52,
     "metadata": {},
     "output_type": "execute_result"
    }
   ],
   "source": [
    "from importlib import reload\n",
    "reload(src.utils)"
   ]
  },
  {
   "cell_type": "code",
   "execution_count": 53,
   "metadata": {},
   "outputs": [],
   "source": [
    "net = net.float()"
   ]
  },
  {
   "cell_type": "code",
   "execution_count": 54,
   "metadata": {
    "colab": {
     "base_uri": "https://localhost:8080/",
     "height": 392
    },
    "id": "2zD91EHv81YF",
    "outputId": "527a3240-1ba1-4727-92da-059447a5cef4"
   },
   "outputs": [
    {
     "name": "stderr",
     "output_type": "stream",
     "text": [
      "[Epoch   1/10]: 100%|██████████| 103939/103939 [06:09<00:00, 280.99it/s, loss=1.16, val_loss=0.826]\n",
      "[Epoch   2/10]:   0%|          | 32/103939 [00:00<06:05, 284.32it/s, loss=1.4]"
     ]
    },
    {
     "name": "stdout",
     "output_type": "stream",
     "text": [
      "COMPARING LOSS\n",
      "Saving\n"
     ]
    },
    {
     "name": "stderr",
     "output_type": "stream",
     "text": [
      "[Epoch   2/10]: 100%|██████████| 103939/103939 [06:12<00:00, 278.93it/s, loss=1.17, val_loss=0.839]\n",
      "[Epoch   3/10]:   0%|          | 32/103939 [00:00<06:12, 279.03it/s, loss=0.953]"
     ]
    },
    {
     "name": "stdout",
     "output_type": "stream",
     "text": [
      "COMPARING LOSS\n"
     ]
    },
    {
     "name": "stderr",
     "output_type": "stream",
     "text": [
      "[Epoch   3/10]: 100%|██████████| 103939/103939 [06:12<00:00, 287.49it/s, loss=1.17, val_loss=0.825]"
     ]
    },
    {
     "name": "stdout",
     "output_type": "stream",
     "text": [
      "COMPARING LOSS\n",
      "Saving\n"
     ]
    },
    {
     "name": "stderr",
     "output_type": "stream",
     "text": [
      "[Epoch   3/10]: 100%|██████████| 103939/103939 [06:13<00:00, 278.34it/s, loss=1.17, val_loss=0.825]\n",
      "[Epoch   4/10]: 100%|██████████| 103939/103939 [06:12<00:00, 287.69it/s, loss=1.17, val_loss=0.818]"
     ]
    },
    {
     "name": "stdout",
     "output_type": "stream",
     "text": [
      "COMPARING LOSS\n",
      "Saving\n"
     ]
    },
    {
     "name": "stderr",
     "output_type": "stream",
     "text": [
      "[Epoch   4/10]: 100%|██████████| 103939/103939 [06:13<00:00, 278.10it/s, loss=1.17, val_loss=0.818]\n",
      "[Epoch   5/10]: 100%|██████████| 103939/103939 [06:12<00:00, 278.91it/s, loss=1.16, val_loss=0.834]\n",
      "[Epoch   6/10]:   0%|          | 32/103939 [00:00<06:07, 282.70it/s, loss=0.975]"
     ]
    },
    {
     "name": "stdout",
     "output_type": "stream",
     "text": [
      "COMPARING LOSS\n"
     ]
    },
    {
     "name": "stderr",
     "output_type": "stream",
     "text": [
      "[Epoch   6/10]: 100%|██████████| 103939/103939 [06:12<00:00, 278.71it/s, loss=1.16, val_loss=0.829]\n",
      "[Epoch   7/10]:   0%|          | 32/103939 [00:00<06:08, 282.21it/s, loss=1.36]"
     ]
    },
    {
     "name": "stdout",
     "output_type": "stream",
     "text": [
      "COMPARING LOSS\n"
     ]
    },
    {
     "name": "stderr",
     "output_type": "stream",
     "text": [
      "[Epoch   7/10]: 100%|██████████| 103939/103939 [06:12<00:00, 278.94it/s, loss=1.16, val_loss=0.843]\n",
      "[Epoch   8/10]:   0%|          | 32/103939 [00:00<06:10, 280.47it/s, loss=1.39]"
     ]
    },
    {
     "name": "stdout",
     "output_type": "stream",
     "text": [
      "COMPARING LOSS\n"
     ]
    },
    {
     "name": "stderr",
     "output_type": "stream",
     "text": [
      "[Epoch   8/10]: 100%|██████████| 103939/103939 [06:12<00:00, 278.90it/s, loss=1.17, val_loss=0.834]\n",
      "[Epoch   9/10]:   0%|          | 32/103939 [00:00<06:10, 280.38it/s, loss=1.1]"
     ]
    },
    {
     "name": "stdout",
     "output_type": "stream",
     "text": [
      "COMPARING LOSS\n"
     ]
    },
    {
     "name": "stderr",
     "output_type": "stream",
     "text": [
      "[Epoch   9/10]: 100%|██████████| 103939/103939 [06:12<00:00, 278.88it/s, loss=1.17, val_loss=0.823]\n",
      "[Epoch  10/10]:   0%|          | 32/103939 [00:00<06:06, 283.81it/s, loss=1.15]"
     ]
    },
    {
     "name": "stdout",
     "output_type": "stream",
     "text": [
      "COMPARING LOSS\n"
     ]
    },
    {
     "name": "stderr",
     "output_type": "stream",
     "text": [
      "[Epoch  10/10]: 100%|██████████| 103939/103939 [06:12<00:00, 278.83it/s, loss=1.16, val_loss=0.822]"
     ]
    },
    {
     "name": "stdout",
     "output_type": "stream",
     "text": [
      "COMPARING LOSS\n",
      "model exported to models/batch_64_model_2021_03_12__154518.pth with loss 0.818399\n"
     ]
    },
    {
     "name": "stderr",
     "output_type": "stream",
     "text": [
      "\n"
     ]
    },
    {
     "data": {
      "image/png": "[encoded data removed]",
      "text/plain": [
       "<Figure size 432x288 with 1 Axes>"
      ]
     },
     "metadata": {},
     "output_type": "display_data"
    }
   ],
   "source": [
    "model_save_path = 'models/batch_64_model_{}.pth'.format(datetime.datetime.now().strftime(\"%Y_%m_%d__%H%M%S\")) \n",
    "\n",
    "val_loss_best = np.inf\n",
    "\n",
    "# Prepare loss history\n",
    "hist_loss = np.zeros(EPOCHS)\n",
    "hist_loss_val = np.zeros(EPOCHS)\n",
    "for idx_epoch in range(EPOCHS):\n",
    "    running_loss = 0\n",
    "    with tqdm(total=len(dataloader_train.dataset), desc=f\"[Epoch {idx_epoch+1:3d}/{EPOCHS}]\") as pbar:\n",
    "        \n",
    "        for idx_batch, (x, y) in enumerate(dataloader_train):\n",
    "            optimizer.zero_grad()\n",
    "            # Propagate input\n",
    "            netout = net(x.float().to(device))\n",
    "            y = y[:,:,np.newaxis]\n",
    "            # Comupte loss\n",
    "            loss = loss_function(y.float().to(device), netout)\n",
    "            # Backpropage loss\n",
    "            loss.backward()\n",
    "            # Update weights\n",
    "            optimizer.step()\n",
    "            running_loss += loss.item()\n",
    "            pbar.set_postfix({'loss': running_loss/(idx_batch+1)})\n",
    "            pbar.update(x.shape[0])\n",
    "            \n",
    "        \n",
    "        train_loss = running_loss/len(dataloader_train)\n",
    "        val_loss = src.utils.compute_loss(net, dataloader_val, loss_function, device).item()\n",
    "        pbar.set_postfix({'loss': train_loss, 'val_loss': val_loss})\n",
    "        \n",
    "        hist_loss[idx_epoch] = train_loss\n",
    "        hist_loss_val[idx_epoch] = val_loss\n",
    "        print (\"COMPARING LOSS\")\n",
    "        if val_loss < val_loss_best:\n",
    "            val_loss_best = val_loss\n",
    "            print (\"Saving\")\n",
    "            torch.save(net.state_dict(), model_save_path)\n",
    "        \n",
    "plt.plot(hist_loss, 'o-', label='train')\n",
    "plt.plot(hist_loss_val, 'o-', label='val')\n",
    "plt.legend()\n",
    "print(f\"model exported to {model_save_path} with loss {val_loss_best:5f}\")"
   ]
  },
  {
   "cell_type": "code",
   "execution_count": 55,
   "metadata": {
    "colab": {
     "base_uri": "https://localhost:8080/",
     "height": 285
    },
    "id": "xGw4eFOR5ORT",
    "outputId": "28263337-1ba4-49db-e3a3-c167a980db5d"
   },
   "outputs": [
    {
     "name": "stdout",
     "output_type": "stream",
     "text": [
      "model exported to models/batch_64_model_2021_03_12__154518.pth with loss 0.818399\n"
     ]
    },
    {
     "data": {
      "image/png": "[encoded data removed]",
      "text/plain": [
       "<Figure size 432x288 with 1 Axes>"
      ]
     },
     "metadata": {},
     "output_type": "display_data"
    }
   ],
   "source": [
    "plt.plot(hist_loss, 'o-', label='train')\n",
    "plt.plot(hist_loss_val, 'o-', label='val')\n",
    "plt.legend()\n",
    "print(f\"model exported to {model_save_path} with loss {val_loss_best:5f}\")"
   ]
  },
  {
   "cell_type": "markdown",
   "metadata": {
    "id": "lw6990TN81YF"
   },
   "source": [
    "**Load Test set**"
   ]
  },
  {
   "cell_type": "code",
   "execution_count": 56,
   "metadata": {
    "colab": {
     "base_uri": "https://localhost:8080/"
    },
    "id": "8Un4bLv481YG",
    "outputId": "e0a9d232-69fa-41a8-c048-0478bb0c5019"
   },
   "outputs": [
    {
     "name": "stderr",
     "output_type": "stream",
     "text": [
      "100%|██████████| 3108/3108 [00:33<00:00, 92.69it/s]\n"
     ]
    }
   ],
   "source": [
    "X_static_test, X_time_test, y_past_test = loadXY(dfs['test'], target_size=1, target_series=True)"
   ]
  },
  {
   "cell_type": "code",
   "execution_count": 57,
   "metadata": {},
   "outputs": [
    {
     "name": "stderr",
     "output_type": "stream",
     "text": [
      "100%|██████████| 18/18 [00:00<00:00, 31.94it/s]\n",
      "100%|██████████| 30/30 [00:00<00:00, 4977.61it/s]\n"
     ]
    }
   ],
   "source": [
    "X_static_test, X_time_test = normalize(X_static_test, X_time_test)"
   ]
  },
  {
   "cell_type": "code",
   "execution_count": 58,
   "metadata": {
    "id": "Uxkes1DU81YG"
   },
   "outputs": [],
   "source": [
    "test_with_labels = []\n",
    "for i in range(len(y_target_test)):\n",
    "    test_with_labels.append([X_time_test[i], y_target_test[i]])"
   ]
  },
  {
   "cell_type": "code",
   "execution_count": 59,
   "metadata": {
    "id": "nwOKsVWE81YG"
   },
   "outputs": [],
   "source": [
    "dataloader_test = DataLoader(test_with_labels,\n",
    "                             batch_size=BATCH_SIZE,\n",
    "                             shuffle=False,\n",
    "                             num_workers=NUM_WORKERS\n",
    "                            )"
   ]
  },
  {
   "cell_type": "markdown",
   "metadata": {
    "id": "PDOs2RZ_81YH"
   },
   "source": [
    "## Validation\n"
   ]
  },
  {
   "cell_type": "code",
   "execution_count": 60,
   "metadata": {
    "id": "YqziM9F081YH"
   },
   "outputs": [],
   "source": [
    "_ = net.eval()"
   ]
  },
  {
   "cell_type": "markdown",
   "metadata": {
    "id": "fpN74c7681YH"
   },
   "source": [
    "### Evaluate on the test dataset"
   ]
  },
  {
   "cell_type": "code",
   "execution_count": 61,
   "metadata": {
    "colab": {
     "base_uri": "https://localhost:8080/"
    },
    "id": "BB18aSRc81YH",
    "outputId": "9e6cacba-36d5-4f8b-c04c-8ef5a51f5f19"
   },
   "outputs": [
    {
     "name": "stdout",
     "output_type": "stream",
     "text": [
      "(9377, 180, 18)\n"
     ]
    }
   ],
   "source": [
    "print (X_time_test.shape)"
   ]
  },
  {
   "cell_type": "code",
   "execution_count": 66,
   "metadata": {
    "colab": {
     "base_uri": "https://localhost:8080/"
    },
    "id": "ACFy1nx381YH",
    "outputId": "a7862616-df01-49fc-e474-eab587c91f50"
   },
   "outputs": [
    {
     "name": "stderr",
     "output_type": "stream",
     "text": [
      "  0%|          | 0/254 [00:00<?, ?it/s]"
     ]
    },
    {
     "name": "stdout",
     "output_type": "stream",
     "text": [
      "[[0.7973686]\n",
      " [0.7973686]\n",
      " [0.7973686]\n",
      " [0.7973686]\n",
      " [0.7973686]\n",
      " [0.7973686]\n",
      " [0.7973686]\n",
      " [0.7973686]\n",
      " [0.7973686]\n",
      " [0.7973686]\n",
      " [0.7973686]\n",
      " [0.7973686]\n",
      " [0.7973686]\n",
      " [0.7973686]\n",
      " [0.7973686]\n",
      " [0.7973686]\n",
      " [0.7973686]\n",
      " [0.7973686]\n",
      " [0.7973686]\n",
      " [0.7973686]\n",
      " [0.7973686]\n",
      " [0.7973686]\n",
      " [0.7973686]\n",
      " [0.7973686]\n",
      " [0.7973686]\n",
      " [0.7973686]\n",
      " [0.7973686]\n",
      " [0.7973686]\n",
      " [0.7973686]\n",
      " [0.7973686]\n",
      " [0.7973686]\n",
      " [0.7973686]\n",
      " [0.7973686]\n",
      " [0.7973686]\n",
      " [0.7973686]\n",
      " [0.7973686]\n",
      " [0.7973686]\n",
      " [0.7973686]\n",
      " [0.7973686]\n",
      " [0.7973686]\n",
      " [0.7973686]\n",
      " [0.7973686]\n",
      " [0.7973686]\n",
      " [0.7973686]\n",
      " [0.7973686]\n",
      " [0.7973686]\n",
      " [0.7973686]\n",
      " [0.7973686]\n",
      " [0.7973686]\n",
      " [0.7973686]\n",
      " [0.7973686]\n",
      " [0.7973686]\n",
      " [0.7973686]\n",
      " [0.7973686]\n",
      " [0.7973686]\n",
      " [0.7973686]\n",
      " [0.7973686]\n",
      " [0.7973686]\n",
      " [0.7973686]\n",
      " [0.7973686]\n",
      " [0.7973686]\n",
      " [0.7973686]\n",
      " [0.7973686]\n",
      " [0.7973686]\n",
      " [0.7973686]\n",
      " [0.7973686]\n",
      " [0.7973686]\n",
      " [0.7973686]\n",
      " [0.7973686]\n",
      " [0.7973686]\n",
      " [0.7973686]\n",
      " [0.7973686]\n",
      " [0.7973686]\n",
      " [0.7973686]\n",
      " [0.7973686]\n",
      " [0.7973686]\n",
      " [0.7973686]\n",
      " [0.7973686]\n",
      " [0.7973686]\n",
      " [0.7973686]\n",
      " [0.7973686]\n",
      " [0.7973686]\n",
      " [0.7973686]\n",
      " [0.7973686]\n",
      " [0.7973686]\n",
      " [0.7973686]\n",
      " [0.7973686]\n",
      " [0.7973686]\n",
      " [0.7973686]\n",
      " [0.7973686]\n",
      " [0.7973686]\n",
      " [0.7973686]\n",
      " [0.7973686]\n",
      " [0.7973686]\n",
      " [0.7973686]\n",
      " [0.7973686]\n",
      " [0.7973686]\n",
      " [0.7973686]\n",
      " [0.7973686]\n",
      " [0.7973686]\n",
      " [0.7973686]\n",
      " [0.7973686]\n",
      " [0.7973686]\n",
      " [0.7973686]\n",
      " [0.7973686]\n",
      " [0.7973686]\n",
      " [0.7973686]\n",
      " [0.7973686]\n",
      " [0.7973686]\n",
      " [0.7973686]\n",
      " [0.7973686]\n",
      " [0.7973686]\n",
      " [0.7973686]\n",
      " [0.7973686]\n",
      " [0.7973686]\n",
      " [0.7973686]\n",
      " [0.7973686]\n",
      " [0.7973686]\n",
      " [0.7973686]\n",
      " [0.7973686]\n",
      " [0.7973686]\n",
      " [0.7973686]\n",
      " [0.7973686]\n",
      " [0.7973686]\n",
      " [0.7973686]\n",
      " [0.7973686]\n",
      " [0.7973686]\n",
      " [0.7973686]\n",
      " [0.7973686]\n",
      " [0.7973686]\n",
      " [0.7973686]\n",
      " [0.7973686]\n",
      " [0.7973686]\n",
      " [0.7973686]\n",
      " [0.7973686]\n",
      " [0.7973686]\n",
      " [0.7973686]\n",
      " [0.7973686]\n",
      " [0.7973686]\n",
      " [0.7973686]\n",
      " [0.7973686]\n",
      " [0.7973686]\n",
      " [0.7973686]\n",
      " [0.7973686]\n",
      " [0.7973686]\n",
      " [0.7973686]\n",
      " [0.7973686]\n",
      " [0.7973686]\n",
      " [0.7973686]\n",
      " [0.7973686]\n",
      " [0.7973686]\n",
      " [0.7973686]\n",
      " [0.7973686]\n",
      " [0.7973686]\n",
      " [0.7973686]\n",
      " [0.7973686]\n",
      " [0.7973686]\n",
      " [0.7973686]\n",
      " [0.7973686]\n",
      " [0.7973686]\n",
      " [0.7973686]\n",
      " [0.7973686]\n",
      " [0.7973686]\n",
      " [0.7973686]\n",
      " [0.7973686]\n",
      " [0.7973686]\n",
      " [0.7973686]\n",
      " [0.7973686]\n",
      " [0.7973686]\n",
      " [0.7973686]\n",
      " [0.7973686]\n",
      " [0.7973686]\n",
      " [0.7973686]\n",
      " [0.7973686]\n",
      " [0.7973686]\n",
      " [0.7973686]\n",
      " [0.7973686]\n",
      " [0.7973686]\n",
      " [0.7973686]\n",
      " [0.7973686]] tensor([[0.0000e+00, 2.6360e-01, 1.6940e-01, 6.3290e-01, 1.0000e+00, 3.3100e-02,\n",
      "         3.3100e-02, 9.3120e-01, 1.2015e+00, 1.5943e+00, 1.6118e+00, 2.0010e+00],\n",
      "        [0.0000e+00, 0.0000e+00, 0.0000e+00, 0.0000e+00, 0.0000e+00, 0.0000e+00,\n",
      "         0.0000e+00, 0.0000e+00, 0.0000e+00, 0.0000e+00, 0.0000e+00, 8.5190e-01],\n",
      "        [0.0000e+00, 0.0000e+00, 0.0000e+00, 0.0000e+00, 0.0000e+00, 0.0000e+00,\n",
      "         0.0000e+00, 0.0000e+00, 0.0000e+00, 0.0000e+00, 0.0000e+00, 0.0000e+00],\n",
      "        [0.0000e+00, 0.0000e+00, 5.4180e-01, 1.3904e+00, 1.4617e+00, 1.4586e+00,\n",
      "         1.4586e+00, 2.9000e-01, 2.5890e-01, 1.7040e-01, 1.0000e-04, 2.0000e-04],\n",
      "        [0.0000e+00, 0.0000e+00, 9.4530e-01, 1.0000e+00, 1.0000e+00, 1.6942e+00,\n",
      "         1.6943e+00, 1.6945e+00, 1.7464e+00, 1.7464e+00, 1.7562e+00, 2.6552e+00],\n",
      "        [0.0000e+00, 0.0000e+00, 6.2190e-01, 4.2110e-01, 0.0000e+00, 0.0000e+00,\n",
      "         0.0000e+00, 0.0000e+00, 0.0000e+00, 0.0000e+00, 0.0000e+00, 0.0000e+00],\n",
      "        [0.0000e+00, 0.0000e+00, 0.0000e+00, 0.0000e+00, 0.0000e+00, 0.0000e+00,\n",
      "         0.0000e+00, 0.0000e+00, 0.0000e+00, 0.0000e+00, 0.0000e+00, 0.0000e+00],\n",
      "        [0.0000e+00, 0.0000e+00, 0.0000e+00, 3.0410e-01, 0.0000e+00, 0.0000e+00,\n",
      "         9.3950e-01, 9.4030e-01, 9.8920e-01, 9.1740e-01, 4.8440e-01, 1.8700e-02],\n",
      "        [1.4405e+00, 1.4352e+00, 2.0569e+00, 2.0569e+00, 1.1610e+00, 1.0038e+00,\n",
      "         3.9380e-01, 3.9470e-01, 2.5140e-01, 2.5200e-01, 2.5200e-01, 2.3500e-01],\n",
      "        [0.0000e+00, 0.0000e+00, 0.0000e+00, 0.0000e+00, 0.0000e+00, 0.0000e+00,\n",
      "         0.0000e+00, 0.0000e+00, 0.0000e+00, 0.0000e+00, 0.0000e+00, 0.0000e+00],\n",
      "        [0.0000e+00, 0.0000e+00, 0.0000e+00, 0.0000e+00, 0.0000e+00, 0.0000e+00,\n",
      "         0.0000e+00, 0.0000e+00, 0.0000e+00, 0.0000e+00, 0.0000e+00, 0.0000e+00],\n",
      "        [3.7370e-01, 2.1900e-01, 7.1280e-01, 0.0000e+00, 0.0000e+00, 1.4900e-02,\n",
      "         1.3100e-02, 1.3100e-02, 1.3100e-02, 1.4600e-02, 4.8920e-01, 1.0000e+00],\n",
      "        [0.0000e+00, 0.0000e+00, 0.0000e+00, 0.0000e+00, 0.0000e+00, 0.0000e+00,\n",
      "         0.0000e+00, 0.0000e+00, 0.0000e+00, 0.0000e+00, 0.0000e+00, 0.0000e+00],\n",
      "        [0.0000e+00, 0.0000e+00, 0.0000e+00, 3.3000e-02, 3.6300e-02, 3.2900e-02,\n",
      "         3.2900e-02, 0.0000e+00, 0.0000e+00, 0.0000e+00, 0.0000e+00, 0.0000e+00],\n",
      "        [3.0000e+00, 2.0696e+00, 2.0696e+00, 1.8692e+00, 8.5670e-01, 6.2200e-02,\n",
      "         6.2200e-02, 4.5400e-02, 2.7820e-01, 0.0000e+00, 0.0000e+00, 0.0000e+00],\n",
      "        [0.0000e+00, 0.0000e+00, 0.0000e+00, 0.0000e+00, 0.0000e+00, 0.0000e+00,\n",
      "         0.0000e+00, 0.0000e+00, 0.0000e+00, 0.0000e+00, 0.0000e+00, 0.0000e+00],\n",
      "        [0.0000e+00, 0.0000e+00, 0.0000e+00, 0.0000e+00, 0.0000e+00, 0.0000e+00,\n",
      "         1.8100e-02, 0.0000e+00, 0.0000e+00, 0.0000e+00, 0.0000e+00, 0.0000e+00],\n",
      "        [1.0000e+00, 2.0000e+00, 2.6229e+00, 1.8221e+00, 1.8221e+00, 8.0190e-01,\n",
      "         8.9400e-02, 8.9400e-02, 8.9400e-02, 7.8270e-01, 7.8270e-01, 7.8270e-01],\n",
      "        [0.0000e+00, 9.4720e-01, 0.0000e+00, 0.0000e+00, 0.0000e+00, 0.0000e+00,\n",
      "         4.8060e-01, 4.8060e-01, 4.8060e-01, 0.0000e+00, 0.0000e+00, 0.0000e+00],\n",
      "        [0.0000e+00, 0.0000e+00, 0.0000e+00, 0.0000e+00, 0.0000e+00, 0.0000e+00,\n",
      "         0.0000e+00, 0.0000e+00, 9.9850e-01, 9.9150e-01, 9.9150e-01, 1.0000e+00],\n",
      "        [0.0000e+00, 0.0000e+00, 0.0000e+00, 0.0000e+00, 0.0000e+00, 0.0000e+00,\n",
      "         0.0000e+00, 0.0000e+00, 0.0000e+00, 0.0000e+00, 0.0000e+00, 0.0000e+00],\n",
      "        [0.0000e+00, 0.0000e+00, 0.0000e+00, 0.0000e+00, 0.0000e+00, 0.0000e+00,\n",
      "         0.0000e+00, 1.0000e-04, 2.5000e-03, 3.2000e-03, 3.2000e-03, 0.0000e+00],\n",
      "        [2.1272e+00, 2.0974e+00, 1.0993e+00, 1.8610e-01, 1.8610e-01, 1.7870e-01,\n",
      "         6.5500e-01, 0.0000e+00, 0.0000e+00, 0.0000e+00, 0.0000e+00, 0.0000e+00],\n",
      "        [0.0000e+00, 0.0000e+00, 0.0000e+00, 0.0000e+00, 0.0000e+00, 0.0000e+00,\n",
      "         0.0000e+00, 0.0000e+00, 0.0000e+00, 0.0000e+00, 0.0000e+00, 0.0000e+00],\n",
      "        [1.8200e-02, 0.0000e+00, 0.0000e+00, 0.0000e+00, 0.0000e+00, 0.0000e+00,\n",
      "         0.0000e+00, 0.0000e+00, 0.0000e+00, 0.0000e+00, 0.0000e+00, 0.0000e+00],\n",
      "        [0.0000e+00, 0.0000e+00, 0.0000e+00, 0.0000e+00, 0.0000e+00, 0.0000e+00,\n",
      "         0.0000e+00, 0.0000e+00, 0.0000e+00, 0.0000e+00, 0.0000e+00, 5.1900e-02],\n",
      "        [3.2379e+00, 2.8406e+00, 2.3925e+00, 1.8556e+00, 1.8246e+00, 1.8246e+00,\n",
      "         1.8246e+00, 9.4370e-01, 0.0000e+00, 0.0000e+00, 0.0000e+00, 0.0000e+00],\n",
      "        [0.0000e+00, 0.0000e+00, 0.0000e+00, 0.0000e+00, 0.0000e+00, 0.0000e+00,\n",
      "         0.0000e+00, 0.0000e+00, 0.0000e+00, 5.2600e-02, 1.6000e-01, 1.2970e-01],\n",
      "        [0.0000e+00, 0.0000e+00, 6.7210e-01, 1.0000e+00, 1.2140e+00, 1.6498e+00,\n",
      "         7.2550e-01, 0.0000e+00, 0.0000e+00, 0.0000e+00, 0.0000e+00, 0.0000e+00],\n",
      "        [0.0000e+00, 0.0000e+00, 0.0000e+00, 0.0000e+00, 0.0000e+00, 0.0000e+00,\n",
      "         5.4920e-01, 5.4920e-01, 0.0000e+00, 0.0000e+00, 0.0000e+00, 0.0000e+00],\n",
      "        [0.0000e+00, 0.0000e+00, 0.0000e+00, 0.0000e+00, 0.0000e+00, 7.6320e-01,\n",
      "         7.6320e-01, 0.0000e+00, 0.0000e+00, 6.4530e-01, 0.0000e+00, 0.0000e+00],\n",
      "        [0.0000e+00, 0.0000e+00, 0.0000e+00, 0.0000e+00, 9.5200e-02, 6.6700e-01,\n",
      "         1.4204e+00, 1.0613e+00, 9.7810e-01, 2.1010e-01, 1.8960e-01, 0.0000e+00]],\n",
      "       dtype=torch.float64)\n"
     ]
    },
    {
     "name": "stderr",
     "output_type": "stream",
     "text": [
      "\n"
     ]
    },
    {
     "ename": "RuntimeError",
     "evalue": "No active exception to reraise",
     "output_type": "error",
     "traceback": [
      "\u001b[0;31m---------------------------------------------------------------------------\u001b[0m",
      "\u001b[0;31mRuntimeError\u001b[0m                              Traceback (most recent call last)",
      "\u001b[0;32m<ipython-input-66-b9c279b631ed>\u001b[0m in \u001b[0;36m<module>\u001b[0;34m\u001b[0m\n\u001b[1;32m      6\u001b[0m         \u001b[0mnetout\u001b[0m \u001b[0;34m=\u001b[0m \u001b[0mnet\u001b[0m\u001b[0;34m(\u001b[0m\u001b[0mx\u001b[0m\u001b[0;34m.\u001b[0m\u001b[0mfloat\u001b[0m\u001b[0;34m(\u001b[0m\u001b[0;34m)\u001b[0m\u001b[0;34m.\u001b[0m\u001b[0mto\u001b[0m\u001b[0;34m(\u001b[0m\u001b[0mdevice\u001b[0m\u001b[0;34m)\u001b[0m\u001b[0;34m)\u001b[0m\u001b[0;34m.\u001b[0m\u001b[0mcpu\u001b[0m\u001b[0;34m(\u001b[0m\u001b[0;34m)\u001b[0m\u001b[0;34m.\u001b[0m\u001b[0mnumpy\u001b[0m\u001b[0;34m(\u001b[0m\u001b[0;34m)\u001b[0m\u001b[0;34m\u001b[0m\u001b[0;34m\u001b[0m\u001b[0m\n\u001b[1;32m      7\u001b[0m         \u001b[0mprint\u001b[0m\u001b[0;34m(\u001b[0m\u001b[0mnetout\u001b[0m\u001b[0;34m[\u001b[0m\u001b[0;34m-\u001b[0m\u001b[0;36m1\u001b[0m\u001b[0;34m]\u001b[0m\u001b[0;34m,\u001b[0m \u001b[0my\u001b[0m\u001b[0;34m)\u001b[0m\u001b[0;34m\u001b[0m\u001b[0;34m\u001b[0m\u001b[0m\n\u001b[0;32m----> 8\u001b[0;31m         \u001b[0;32mraise\u001b[0m\u001b[0;34m\u001b[0m\u001b[0;34m\u001b[0m\u001b[0m\n\u001b[0m\u001b[1;32m      9\u001b[0m         \u001b[0mpredictions\u001b[0m\u001b[0;34m[\u001b[0m\u001b[0midx_prediction\u001b[0m\u001b[0;34m:\u001b[0m\u001b[0midx_prediction\u001b[0m\u001b[0;34m+\u001b[0m\u001b[0mx\u001b[0m\u001b[0;34m.\u001b[0m\u001b[0mshape\u001b[0m\u001b[0;34m[\u001b[0m\u001b[0;36m0\u001b[0m\u001b[0;34m]\u001b[0m\u001b[0;34m]\u001b[0m \u001b[0;34m=\u001b[0m \u001b[0mnetout\u001b[0m\u001b[0;34m\u001b[0m\u001b[0;34m\u001b[0m\u001b[0m\n\u001b[1;32m     10\u001b[0m         \u001b[0midx_prediction\u001b[0m \u001b[0;34m+=\u001b[0m \u001b[0mx\u001b[0m\u001b[0;34m.\u001b[0m\u001b[0mshape\u001b[0m\u001b[0;34m[\u001b[0m\u001b[0;36m0\u001b[0m\u001b[0;34m]\u001b[0m\u001b[0;34m\u001b[0m\u001b[0;34m\u001b[0m\u001b[0m\n",
      "\u001b[0;31mRuntimeError\u001b[0m: No active exception to reraise"
     ]
    }
   ],
   "source": [
    "\n",
    "predictions = np.empty(shape=(len(dataloader_test.dataset), 180))\n",
    "\n",
    "idx_prediction = 0\n",
    "with torch.no_grad():\n",
    "    for x, y in tqdm(dataloader_test, total=len(dataloader_test)):\n",
    "        netout = net(x.float().to(device)).cpu().numpy()\n",
    "        print(netout[-1], y)\n",
    "        raise\n",
    "        predictions[idx_prediction:idx_prediction+x.shape[0]] = netout\n",
    "        idx_prediction += x.shape[0]\n"
   ]
  },
  {
   "cell_type": "code",
   "execution_count": 67,
   "metadata": {},
   "outputs": [
    {
     "data": {
      "text/plain": [
       "array([[0.8815, 0.8815, 0.8815, ..., 0.    , 0.    , 0.    ],\n",
       "       [0.    , 0.    , 0.    , ..., 0.    , 0.    , 0.    ],\n",
       "       [0.    , 0.    , 0.    , ..., 0.    , 0.    , 0.    ],\n",
       "       ...,\n",
       "       [0.    , 0.    , 0.    , ..., 0.    , 0.    , 0.    ],\n",
       "       [0.    , 0.    , 0.    , ..., 0.    , 0.    , 0.    ],\n",
       "       [0.    , 0.    , 0.    , ..., 0.    , 0.    , 0.    ]])"
      ]
     },
     "execution_count": 67,
     "metadata": {},
     "output_type": "execute_result"
    }
   ],
   "source": [
    "y_target_val"
   ]
  },
  {
   "cell_type": "markdown",
   "metadata": {
    "id": "xe71mpxB81YI"
   },
   "source": [
    "### Plot results on a sample"
   ]
  },
  {
   "cell_type": "code",
   "execution_count": 63,
   "metadata": {
    "colab": {
     "base_uri": "https://localhost:8080/"
    },
    "id": "9ReyLX4B81YI",
    "outputId": "73848f60-5e78-483e-e15e-4913c1077720"
   },
   "outputs": [
    {
     "data": {
      "text/plain": [
       "0.043520770734964465"
      ]
     },
     "execution_count": 63,
     "metadata": {},
     "output_type": "execute_result"
    }
   ],
   "source": [
    "from sklearn.metrics import f1_score\n",
    "\n",
    "recent_pred = predictions[:,-1,:]\n",
    "\n",
    "predicted_drought_values_rounded = round_array(recent_pred)\n",
    "\n",
    "y_target_test_rounded = round_array(y_target_test)\n",
    "\n",
    "f1_score(predicted_drought_values_rounded, y_target_test_rounded, average='macro')"
   ]
  },
  {
   "cell_type": "code",
   "execution_count": 37,
   "metadata": {},
   "outputs": [
    {
     "data": {
      "text/plain": [
       "array([0, 0, 0, ..., 4, 4, 4])"
      ]
     },
     "execution_count": 37,
     "metadata": {},
     "output_type": "execute_result"
    }
   ],
   "source": [
    "y_target_test_rounded"
   ]
  },
  {
   "cell_type": "code",
   "execution_count": null,
   "metadata": {
    "colab": {
     "base_uri": "https://localhost:8080/"
    },
    "id": "0Tlg97St6WH2",
    "outputId": "8878ff3b-6a87-4751-eb74-7e87d3625bd3"
   },
   "outputs": [],
   "source": [
    "print (\"Precision: {:.2f}\".format(prec))\n",
    "print (\"Recall: {:.2f}\".format(rec))\n",
    "print (\"F1-Score: {:.2f}\".format(f1))"
   ]
  },
  {
   "cell_type": "code",
   "execution_count": null,
   "metadata": {
    "colab": {
     "base_uri": "https://localhost:8080/",
     "height": 285
    },
    "id": "QIgjG-o86g8o",
    "outputId": "b4c5b1c8-c879-44f0-ae4a-5dcea059f5e7"
   },
   "outputs": [],
   "source": [
    "\"\"\"\n",
    "Bar plot showing the number of predicted\n",
    "predictions vs actual predictions for each\n",
    "class\n",
    "\"\"\"\n",
    "\n",
    "pred_counter = Counter(predicted_drought_values_rounded)\n",
    "true_counter = Counter(y_target_test_rounded)\n",
    "\n",
    "classes_pred = pred_counter.keys()\n",
    "classes_true = true_counter.keys()\n",
    "pred_values = pred_counter.values()\n",
    "true_values = true_counter.values()\n",
    "\n",
    "\n",
    "ind_pred = np.arange(len(classes_pred))  # the x locations for the groups\n",
    "ind_true = np.arange(len(classes_true))\n",
    "width = 0.4 # the width of the bars\n",
    "\n",
    "print (pred_counter)\n",
    "fig = plt.figure()\n",
    "ax = fig.add_subplot(111)\n",
    "\n",
    "predBar = ax.bar(ind_pred, pred_values, width, color='royalblue')\n",
    "\n",
    "trueBar = ax.bar(ind_true+width, true_values, width, color='seagreen')\n",
    "\n",
    "ax.set_ylabel('Count')\n",
    "ax.set_xticks(ind_true + width / 2)\n",
    "ax.set_xticklabels(ind_true)\n",
    "\n",
    "ax.legend( (predBar[0], trueBar[0]), ('Predicted', 'Actual') )\n",
    "\n",
    "plt.show()"
   ]
  },
  {
   "cell_type": "markdown",
   "metadata": {
    "id": "qox5XdpQ81YI"
   },
   "source": [
    "### Plot error distributions"
   ]
  },
  {
   "cell_type": "code",
   "execution_count": null,
   "metadata": {
    "id": "Tef4iEEs81YI"
   },
   "outputs": [],
   "source": [
    "map_plot_function(y_target_test, predictions, plot_error_distribution, dataset_indices=dataloader_test.dataset.indices, time_limit=24)\n"
   ]
  },
  {
   "cell_type": "markdown",
   "metadata": {
    "id": "bOTDqEvm81YI"
   },
   "source": [
    "### Plot mispredictions thresholds"
   ]
  },
  {
   "cell_type": "code",
   "execution_count": null,
   "metadata": {
    "id": "fDTOdzr-81YI"
   },
   "outputs": [],
   "source": [
    "map_plot_function(y_target_test, predictions, plot_errors_threshold, plot_kwargs={'error_band': 0.1}, dataset_indices=dataloader_test.dataset.indices)\n"
   ]
  },
  {
   "cell_type": "code",
   "execution_count": null,
   "metadata": {},
   "outputs": [],
   "source": []
  }
 ],
 "metadata": {
  "colab": {
   "collapsed_sections": [
    "qox5XdpQ81YI",
    "bOTDqEvm81YI"
   ],
   "name": "starter-us-drought-meteorological-data.ipynb",
   "provenance": [],
   "toc_visible": true
  },
  "kernelspec": {
   "display_name": "Python 3",
   "language": "python",
   "name": "python3"
  },
  "language_info": {
   "codemirror_mode": {
    "name": "ipython",
    "version": 3
   },
   "file_extension": ".py",
   "mimetype": "text/x-python",
   "name": "python",
   "nbconvert_exporter": "python",
   "pygments_lexer": "ipython3",
   "version": "3.7.6"
  },
  "widgets": {
   "application/vnd.jupyter.widget-state+json": {
    "060b5c65011744b89f0822a0a31e4ec3": {
     "model_module": "@jupyter-widgets/controls",
     "model_name": "FloatProgressModel",
     "state": {
      "_dom_classes": [],
      "_model_module": "@jupyter-widgets/controls",
      "_model_module_version": "1.5.0",
      "_model_name": "FloatProgressModel",
      "_view_count": null,
      "_view_module": "@jupyter-widgets/controls",
      "_view_module_version": "1.5.0",
      "_view_name": "ProgressView",
      "bar_style": "success",
      "description": "100%",
      "description_tooltip": null,
      "layout": "IPY_MODEL_df7696c138b648c1bf6e20eef8c4df3f",
      "max": 3108,
      "min": 0,
      "orientation": "horizontal",
      "style": "IPY_MODEL_560c8a22519a4760b2651feb17429461",
      "value": 3108
     }
    },
    "08f1387890ff4437ba6a2ab1f6cd90ce": {
     "model_module": "@jupyter-widgets/base",
     "model_name": "LayoutModel",
     "state": {
      "_model_module": "@jupyter-widgets/base",
      "_model_module_version": "1.2.0",
      "_model_name": "LayoutModel",
      "_view_count": null,
      "_view_module": "@jupyter-widgets/base",
      "_view_module_version": "1.2.0",
      "_view_name": "LayoutView",
      "align_content": null,
      "align_items": null,
      "align_self": null,
      "border": null,
      "bottom": null,
      "display": null,
      "flex": null,
      "flex_flow": null,
      "grid_area": null,
      "grid_auto_columns": null,
      "grid_auto_flow": null,
      "grid_auto_rows": null,
      "grid_column": null,
      "grid_gap": null,
      "grid_row": null,
      "grid_template_areas": null,
      "grid_template_columns": null,
      "grid_template_rows": null,
      "height": null,
      "justify_content": null,
      "justify_items": null,
      "left": null,
      "margin": null,
      "max_height": null,
      "max_width": null,
      "min_height": null,
      "min_width": null,
      "object_fit": null,
      "object_position": null,
      "order": null,
      "overflow": null,
      "overflow_x": null,
      "overflow_y": null,
      "padding": null,
      "right": null,
      "top": null,
      "visibility": null,
      "width": null
     }
    },
    "28d2224dd5164404ad979e7cdddb9256": {
     "model_module": "@jupyter-widgets/base",
     "model_name": "LayoutModel",
     "state": {
      "_model_module": "@jupyter-widgets/base",
      "_model_module_version": "1.2.0",
      "_model_name": "LayoutModel",
      "_view_count": null,
      "_view_module": "@jupyter-widgets/base",
      "_view_module_version": "1.2.0",
      "_view_name": "LayoutView",
      "align_content": null,
      "align_items": null,
      "align_self": null,
      "border": null,
      "bottom": null,
      "display": null,
      "flex": null,
      "flex_flow": null,
      "grid_area": null,
      "grid_auto_columns": null,
      "grid_auto_flow": null,
      "grid_auto_rows": null,
      "grid_column": null,
      "grid_gap": null,
      "grid_row": null,
      "grid_template_areas": null,
      "grid_template_columns": null,
      "grid_template_rows": null,
      "height": null,
      "justify_content": null,
      "justify_items": null,
      "left": null,
      "margin": null,
      "max_height": null,
      "max_width": null,
      "min_height": null,
      "min_width": null,
      "object_fit": null,
      "object_position": null,
      "order": null,
      "overflow": null,
      "overflow_x": null,
      "overflow_y": null,
      "padding": null,
      "right": null,
      "top": null,
      "visibility": null,
      "width": null
     }
    },
    "2bc30f73a7524b27b6d309c04775d260": {
     "model_module": "@jupyter-widgets/controls",
     "model_name": "ProgressStyleModel",
     "state": {
      "_model_module": "@jupyter-widgets/controls",
      "_model_module_version": "1.5.0",
      "_model_name": "ProgressStyleModel",
      "_view_count": null,
      "_view_module": "@jupyter-widgets/base",
      "_view_module_version": "1.2.0",
      "_view_name": "StyleView",
      "bar_color": null,
      "description_width": "initial"
     }
    },
    "5091943b0675475b93933bfea269a159": {
     "model_module": "@jupyter-widgets/controls",
     "model_name": "FloatProgressModel",
     "state": {
      "_dom_classes": [],
      "_model_module": "@jupyter-widgets/controls",
      "_model_module_version": "1.5.0",
      "_model_name": "FloatProgressModel",
      "_view_count": null,
      "_view_module": "@jupyter-widgets/controls",
      "_view_module_version": "1.5.0",
      "_view_name": "ProgressView",
      "bar_style": "success",
      "description": "100%",
      "description_tooltip": null,
      "layout": "IPY_MODEL_98a3cb36b7fe47438bd99900612fe5b2",
      "max": 3108,
      "min": 0,
      "orientation": "horizontal",
      "style": "IPY_MODEL_2bc30f73a7524b27b6d309c04775d260",
      "value": 3108
     }
    },
    "560c8a22519a4760b2651feb17429461": {
     "model_module": "@jupyter-widgets/controls",
     "model_name": "ProgressStyleModel",
     "state": {
      "_model_module": "@jupyter-widgets/controls",
      "_model_module_version": "1.5.0",
      "_model_name": "ProgressStyleModel",
      "_view_count": null,
      "_view_module": "@jupyter-widgets/base",
      "_view_module_version": "1.2.0",
      "_view_name": "StyleView",
      "bar_color": null,
      "description_width": "initial"
     }
    },
    "5935ebee2a5c421b8ace0548164973b0": {
     "model_module": "@jupyter-widgets/controls",
     "model_name": "DescriptionStyleModel",
     "state": {
      "_model_module": "@jupyter-widgets/controls",
      "_model_module_version": "1.5.0",
      "_model_name": "DescriptionStyleModel",
      "_view_count": null,
      "_view_module": "@jupyter-widgets/base",
      "_view_module_version": "1.2.0",
      "_view_name": "StyleView",
      "description_width": ""
     }
    },
    "7b18187dbc9844f8b4d843f89ef67b9c": {
     "model_module": "@jupyter-widgets/controls",
     "model_name": "HTMLModel",
     "state": {
      "_dom_classes": [],
      "_model_module": "@jupyter-widgets/controls",
      "_model_module_version": "1.5.0",
      "_model_name": "HTMLModel",
      "_view_count": null,
      "_view_module": "@jupyter-widgets/controls",
      "_view_module_version": "1.5.0",
      "_view_name": "HTMLView",
      "description": "",
      "description_tooltip": null,
      "layout": "IPY_MODEL_f90ba9cc9db04d88ad703e0ab236a8c6",
      "placeholder": "​",
      "style": "IPY_MODEL_5935ebee2a5c421b8ace0548164973b0",
      "value": " 3108/3108 [22:09&lt;00:00,  2.34it/s]"
     }
    },
    "9102afae0abb4db9b627d202d325b319": {
     "model_module": "@jupyter-widgets/controls",
     "model_name": "HBoxModel",
     "state": {
      "_dom_classes": [],
      "_model_module": "@jupyter-widgets/controls",
      "_model_module_version": "1.5.0",
      "_model_name": "HBoxModel",
      "_view_count": null,
      "_view_module": "@jupyter-widgets/controls",
      "_view_module_version": "1.5.0",
      "_view_name": "HBoxView",
      "box_style": "",
      "children": [
       "IPY_MODEL_5091943b0675475b93933bfea269a159",
       "IPY_MODEL_a2afcf9a92ed49c3815ae9cdec61df28"
      ],
      "layout": "IPY_MODEL_28d2224dd5164404ad979e7cdddb9256"
     }
    },
    "98a3cb36b7fe47438bd99900612fe5b2": {
     "model_module": "@jupyter-widgets/base",
     "model_name": "LayoutModel",
     "state": {
      "_model_module": "@jupyter-widgets/base",
      "_model_module_version": "1.2.0",
      "_model_name": "LayoutModel",
      "_view_count": null,
      "_view_module": "@jupyter-widgets/base",
      "_view_module_version": "1.2.0",
      "_view_name": "LayoutView",
      "align_content": null,
      "align_items": null,
      "align_self": null,
      "border": null,
      "bottom": null,
      "display": null,
      "flex": null,
      "flex_flow": null,
      "grid_area": null,
      "grid_auto_columns": null,
      "grid_auto_flow": null,
      "grid_auto_rows": null,
      "grid_column": null,
      "grid_gap": null,
      "grid_row": null,
      "grid_template_areas": null,
      "grid_template_columns": null,
      "grid_template_rows": null,
      "height": null,
      "justify_content": null,
      "justify_items": null,
      "left": null,
      "margin": null,
      "max_height": null,
      "max_width": null,
      "min_height": null,
      "min_width": null,
      "object_fit": null,
      "object_position": null,
      "order": null,
      "overflow": null,
      "overflow_x": null,
      "overflow_y": null,
      "padding": null,
      "right": null,
      "top": null,
      "visibility": null,
      "width": null
     }
    },
    "a2afcf9a92ed49c3815ae9cdec61df28": {
     "model_module": "@jupyter-widgets/controls",
     "model_name": "HTMLModel",
     "state": {
      "_dom_classes": [],
      "_model_module": "@jupyter-widgets/controls",
      "_model_module_version": "1.5.0",
      "_model_name": "HTMLModel",
      "_view_count": null,
      "_view_module": "@jupyter-widgets/controls",
      "_view_module_version": "1.5.0",
      "_view_name": "HTMLView",
      "description": "",
      "description_tooltip": null,
      "layout": "IPY_MODEL_e72574e8d7fc4949824a57b88b1e2884",
      "placeholder": "​",
      "style": "IPY_MODEL_ab33de6c1295479a8dc175faf7bcb74b",
      "value": " 3108/3108 [15:03&lt;00:00,  3.44it/s]"
     }
    },
    "ab33de6c1295479a8dc175faf7bcb74b": {
     "model_module": "@jupyter-widgets/controls",
     "model_name": "DescriptionStyleModel",
     "state": {
      "_model_module": "@jupyter-widgets/controls",
      "_model_module_version": "1.5.0",
      "_model_name": "DescriptionStyleModel",
      "_view_count": null,
      "_view_module": "@jupyter-widgets/base",
      "_view_module_version": "1.2.0",
      "_view_name": "StyleView",
      "description_width": ""
     }
    },
    "aef81a63ce0948d9babb88fe986f7657": {
     "model_module": "@jupyter-widgets/controls",
     "model_name": "HBoxModel",
     "state": {
      "_dom_classes": [],
      "_model_module": "@jupyter-widgets/controls",
      "_model_module_version": "1.5.0",
      "_model_name": "HBoxModel",
      "_view_count": null,
      "_view_module": "@jupyter-widgets/controls",
      "_view_module_version": "1.5.0",
      "_view_name": "HBoxView",
      "box_style": "",
      "children": [
       "IPY_MODEL_060b5c65011744b89f0822a0a31e4ec3",
       "IPY_MODEL_7b18187dbc9844f8b4d843f89ef67b9c"
      ],
      "layout": "IPY_MODEL_08f1387890ff4437ba6a2ab1f6cd90ce"
     }
    },
    "df7696c138b648c1bf6e20eef8c4df3f": {
     "model_module": "@jupyter-widgets/base",
     "model_name": "LayoutModel",
     "state": {
      "_model_module": "@jupyter-widgets/base",
      "_model_module_version": "1.2.0",
      "_model_name": "LayoutModel",
      "_view_count": null,
      "_view_module": "@jupyter-widgets/base",
      "_view_module_version": "1.2.0",
      "_view_name": "LayoutView",
      "align_content": null,
      "align_items": null,
      "align_self": null,
      "border": null,
      "bottom": null,
      "display": null,
      "flex": null,
      "flex_flow": null,
      "grid_area": null,
      "grid_auto_columns": null,
      "grid_auto_flow": null,
      "grid_auto_rows": null,
      "grid_column": null,
      "grid_gap": null,
      "grid_row": null,
      "grid_template_areas": null,
      "grid_template_columns": null,
      "grid_template_rows": null,
      "height": null,
      "justify_content": null,
      "justify_items": null,
      "left": null,
      "margin": null,
      "max_height": null,
      "max_width": null,
      "min_height": null,
      "min_width": null,
      "object_fit": null,
      "object_position": null,
      "order": null,
      "overflow": null,
      "overflow_x": null,
      "overflow_y": null,
      "padding": null,
      "right": null,
      "top": null,
      "visibility": null,
      "width": null
     }
    },
    "e72574e8d7fc4949824a57b88b1e2884": {
     "model_module": "@jupyter-widgets/base",
     "model_name": "LayoutModel",
     "state": {
      "_model_module": "@jupyter-widgets/base",
      "_model_module_version": "1.2.0",
      "_model_name": "LayoutModel",
      "_view_count": null,
      "_view_module": "@jupyter-widgets/base",
      "_view_module_version": "1.2.0",
      "_view_name": "LayoutView",
      "align_content": null,
      "align_items": null,
      "align_self": null,
      "border": null,
      "bottom": null,
      "display": null,
      "flex": null,
      "flex_flow": null,
      "grid_area": null,
      "grid_auto_columns": null,
      "grid_auto_flow": null,
      "grid_auto_rows": null,
      "grid_column": null,
      "grid_gap": null,
      "grid_row": null,
      "grid_template_areas": null,
      "grid_template_columns": null,
      "grid_template_rows": null,
      "height": null,
      "justify_content": null,
      "justify_items": null,
      "left": null,
      "margin": null,
      "max_height": null,
      "max_width": null,
      "min_height": null,
      "min_width": null,
      "object_fit": null,
      "object_position": null,
      "order": null,
      "overflow": null,
      "overflow_x": null,
      "overflow_y": null,
      "padding": null,
      "right": null,
      "top": null,
      "visibility": null,
      "width": null
     }
    },
    "f90ba9cc9db04d88ad703e0ab236a8c6": {
     "model_module": "@jupyter-widgets/base",
     "model_name": "LayoutModel",
     "state": {
      "_model_module": "@jupyter-widgets/base",
      "_model_module_version": "1.2.0",
      "_model_name": "LayoutModel",
      "_view_count": null,
      "_view_module": "@jupyter-widgets/base",
      "_view_module_version": "1.2.0",
      "_view_name": "LayoutView",
      "align_content": null,
      "align_items": null,
      "align_self": null,
      "border": null,
      "bottom": null,
      "display": null,
      "flex": null,
      "flex_flow": null,
      "grid_area": null,
      "grid_auto_columns": null,
      "grid_auto_flow": null,
      "grid_auto_rows": null,
      "grid_column": null,
      "grid_gap": null,
      "grid_row": null,
      "grid_template_areas": null,
      "grid_template_columns": null,
      "grid_template_rows": null,
      "height": null,
      "justify_content": null,
      "justify_items": null,
      "left": null,
      "margin": null,
      "max_height": null,
      "max_width": null,
      "min_height": null,
      "min_width": null,
      "object_fit": null,
      "object_position": null,
      "order": null,
      "overflow": null,
      "overflow_x": null,
      "overflow_y": null,
      "padding": null,
      "right": null,
      "top": null,
      "visibility": null,
      "width": null
     }
    }
   }
  }
 },
 "nbformat": 4,
 "nbformat_minor": 1
}
